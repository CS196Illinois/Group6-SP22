{
 "cells": [
  {
   "cell_type": "code",
   "execution_count": 1,
   "id": "1f7d8cad",
   "metadata": {},
   "outputs": [],
   "source": [
    "import torch\n",
    "import torch.nn as nn\n",
    "import torch.nn.functional as F"
   ]
  },
  {
   "cell_type": "code",
   "execution_count": 2,
   "id": "ecc2ffea",
   "metadata": {},
   "outputs": [],
   "source": [
    "x = torch.rand(1,10,3,224,224) # B T C H W "
   ]
  },
  {
   "cell_type": "code",
   "execution_count": 3,
   "id": "88562736",
   "metadata": {},
   "outputs": [],
   "source": [
    "class Net(nn.Module):\n",
    "    def __init__(self):\n",
    "        super().__init__()\n",
    "        self.conv1 = nn.Conv2d(3, 6, 5) # input channels, output channel, kernel size\n",
    "        self.pool = nn.MaxPool2d(2, 2)\n",
    "        self.conv2 = nn.Conv2d(6, 16, 5)      # input channels, output channel, kernel size\n",
    "        self.fc1 = nn.Linear(16 * 5 * 5, 120) #  16*5*5 5,5,16\n",
    "        self.fc2 = nn.Linear(120, 84)\n",
    "        self.fc3 = nn.Linear(84, 10)\n",
    "\n",
    "    def forward(self, x):\n",
    "        x = self.pool(F.relu(self.conv1(x)))\n",
    "        x = self.pool(F.relu(self.conv2(x))) # c. h. w. 16, 5, 5 -> 16, 10, 10\n",
    "        x = torch.flatten(x, 1) # flatten all dimensions except batch\n",
    "        x = F.relu(self.fc1(x)) \n",
    "        x = F.relu(self.fc2(x))\n",
    "        x = self.fc3(x)\n",
    "        return x\n",
    "\n",
    "# 16 x 1 x 1 \n",
    "# 16 x 5\n",
    "net = Net()"
   ]
  },
  {
   "cell_type": "code",
   "execution_count": 4,
   "id": "6a013d5f",
   "metadata": {},
   "outputs": [
    {
     "data": {
      "text/plain": [
       "Net(\n",
       "  (conv1): Conv2d(3, 6, kernel_size=(5, 5), stride=(1, 1))\n",
       "  (pool): MaxPool2d(kernel_size=2, stride=2, padding=0, dilation=1, ceil_mode=False)\n",
       "  (conv2): Conv2d(6, 16, kernel_size=(5, 5), stride=(1, 1))\n",
       "  (fc1): Linear(in_features=400, out_features=120, bias=True)\n",
       "  (fc2): Linear(in_features=120, out_features=84, bias=True)\n",
       "  (fc3): Linear(in_features=84, out_features=10, bias=True)\n",
       ")"
      ]
     },
     "execution_count": 4,
     "metadata": {},
     "output_type": "execute_result"
    }
   ],
   "source": [
    "net"
   ]
  },
  {
   "cell_type": "code",
   "execution_count": 11,
   "id": "308f3996",
   "metadata": {},
   "outputs": [],
   "source": [
    "x = torch.rand(4, 3, 30, 128, 128) # Batch, Channels, Time, Height, Width"
   ]
  },
  {
   "cell_type": "code",
   "execution_count": 22,
   "id": "7dc44d7a",
   "metadata": {},
   "outputs": [],
   "source": [
    "class Net(nn.Module):\n",
    "    def __init__(self, num_classes, kernel_size):\n",
    "        super().__init__()\n",
    "        self.conv1 = nn.Conv3d(3, 16, kernel_size, padding='same')\n",
    "        # 5x5x5x3x16 = 1200 (bias)\n",
    "        self.conv2 = nn.Conv3d(16, 32, kernel_size, padding='same')\n",
    "        self.conv3 = nn.Conv3d(32, 64, kernel_size, padding='same')\n",
    "        self.conv4 = nn.Conv3d(64, 128, kernel_size, padding='same')\n",
    "        self.conv5 = nn.Conv3d(128, 256, kernel_size, padding='same')\n",
    "        self.conv6 = nn.Conv3d(256, 512, kernel_size, padding='same')\n",
    "        # 16M \n",
    "        self.maxpool2d = nn.MaxPool3d((1,3,3))\n",
    "        self.relu = nn.ReLU()\n",
    "        self.prediction_head = nn.Linear(31457280, num_classes)\n",
    "        # 31457280*7\n",
    "        # 5x5x5x256x512 \n",
    "        # 16M\n",
    "        \n",
    "    def forward(self, x):\n",
    "        x = self.conv1(x)\n",
    "        x = torch.flatten(x)\n",
    "        x = self.prediction_head(x)\n",
    "        return x\n",
    "\n",
    "\n",
    "net = Net(7)"
   ]
  },
  {
   "cell_type": "code",
   "execution_count": 27,
   "id": "c0ff3bb5",
   "metadata": {},
   "outputs": [],
   "source": [
    "model_parameters = filter(lambda p: p.requires_grad, net.parameters())\n",
    "params = sum([np.prod(p.size()) for p in model_parameters])"
   ]
  },
  {
   "cell_type": "code",
   "execution_count": 26,
   "id": "e68c123d",
   "metadata": {},
   "outputs": [],
   "source": [
    "import numpy as np"
   ]
  },
  {
   "cell_type": "code",
   "execution_count": 29,
   "id": "1bd798a4",
   "metadata": {},
   "outputs": [
    {
     "data": {
      "text/plain": [
       "Net(\n",
       "  (conv1): Conv3d(3, 16, kernel_size=(5, 5, 5), stride=(1, 1, 1), padding=same)\n",
       "  (conv2): Conv3d(16, 32, kernel_size=(5, 5, 5), stride=(1, 1, 1), padding=same)\n",
       "  (conv3): Conv3d(32, 64, kernel_size=(5, 5, 5), stride=(1, 1, 1), padding=same)\n",
       "  (conv4): Conv3d(64, 128, kernel_size=(5, 5, 5), stride=(1, 1, 1), padding=same)\n",
       "  (conv5): Conv3d(128, 256, kernel_size=(5, 5, 5), stride=(1, 1, 1), padding=same)\n",
       "  (conv6): Conv3d(256, 512, kernel_size=(5, 5, 5), stride=(1, 1, 1), padding=same)\n",
       "  (maxpool2d): MaxPool3d(kernel_size=(1, 3, 3), stride=(1, 3, 3), padding=0, dilation=1, ceil_mode=False)\n",
       "  (relu): ReLU()\n",
       "  (prediction_head): Linear(in_features=31457280, out_features=7, bias=True)\n",
       ")"
      ]
     },
     "execution_count": 29,
     "metadata": {},
     "output_type": "execute_result"
    }
   ],
   "source": [
    "net"
   ]
  },
  {
   "cell_type": "code",
   "execution_count": null,
   "id": "0e8df9bd",
   "metadata": {},
   "outputs": [],
   "source": []
  }
 ],
 "metadata": {
  "kernelspec": {
   "display_name": "Python 3 (ipykernel)",
   "language": "python",
   "name": "python3"
  },
  "language_info": {
   "codemirror_mode": {
    "name": "ipython",
    "version": 3
   },
   "file_extension": ".py",
   "mimetype": "text/x-python",
   "name": "python",
   "nbconvert_exporter": "python",
   "pygments_lexer": "ipython3",
   "version": "3.9.7"
  }
 },
 "nbformat": 4,
 "nbformat_minor": 5
}
