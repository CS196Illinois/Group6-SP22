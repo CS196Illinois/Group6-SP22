{
 "cells": [
  {
   "cell_type": "code",
   "execution_count": 255,
   "id": "71ba2277",
   "metadata": {},
   "outputs": [],
   "source": [
    "import torch\n",
    "import torch.nn as nn\n",
    "import matplotlib.pyplot as plt"
   ]
  },
  {
   "cell_type": "markdown",
   "id": "02024209",
   "metadata": {},
   "source": [
    "# class MyModel(nn.Module):\n",
    "    def __init__(self):\n",
    "        super().__init__()\n",
    "        self.fc1 = nn.Linear(1000, 1)\n",
    "        self.fc2 = nn.Linear(1, 50)\n",
    "        self.fc3 = nn.Linear(50, 1)\n",
    "        \n",
    "        self.relu = nn.ReLU()\n",
    "        self.sigmoid = nn.Sigmoid()\n",
    "        \n",
    "    def forward(self, x):\n",
    "        x = self.fc1(x)\n",
    "        \n",
    "        x = self.fc2(x)\n",
    "        x = self.relu(x)\n",
    "        \n",
    "        x = self.fc3(x)\n",
    "        x = self.sigmoid(x) # (0,1)\n",
    "        x *= 110 #  (0, 110)\n",
    "        return x\n",
    "        \n",
    "        \n",
    "    # __call__ "
   ]
  },
  {
   "cell_type": "code",
   "execution_count": 288,
   "id": "01c849be",
   "metadata": {},
   "outputs": [],
   "source": [
    "model = MyModel()"
   ]
  },
  {
   "cell_type": "code",
   "execution_count": 289,
   "id": "20cc74f1",
   "metadata": {},
   "outputs": [],
   "source": [
    "x = torch.rand(1, 3, 224, 224) # B, C, H, W "
   ]
  },
  {
   "cell_type": "code",
   "execution_count": 290,
   "id": "d15d1bf2",
   "metadata": {},
   "outputs": [],
   "source": [
    "x = torch.rand(1, 1000) # B, C, H, W "
   ]
  },
  {
   "cell_type": "code",
   "execution_count": 291,
   "id": "6091b67f",
   "metadata": {},
   "outputs": [
    {
     "data": {
      "text/plain": [
       "tensor([[58.0991]], grad_fn=<MulBackward0>)"
      ]
     },
     "execution_count": 291,
     "metadata": {},
     "output_type": "execute_result"
    }
   ],
   "source": [
    "model(x)"
   ]
  },
  {
   "cell_type": "code",
   "execution_count": null,
   "id": "2820343f",
   "metadata": {},
   "outputs": [],
   "source": []
  }
 ],
 "metadata": {
  "kernelspec": {
   "display_name": "Python 3 (ipykernel)",
   "language": "python",
   "name": "python3"
  },
  "language_info": {
   "codemirror_mode": {
    "name": "ipython",
    "version": 3
   },
   "file_extension": ".py",
   "mimetype": "text/x-python",
   "name": "python",
   "nbconvert_exporter": "python",
   "pygments_lexer": "ipython3",
   "version": "3.9.7"
  }
 },
 "nbformat": 4,
 "nbformat_minor": 5
}
