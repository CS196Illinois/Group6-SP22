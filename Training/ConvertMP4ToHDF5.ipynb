{
 "cells": [
  {
   "cell_type": "code",
   "execution_count": 13,
   "id": "946adb1e",
   "metadata": {},
   "outputs": [],
   "source": [
    "import h5py\n",
    "import json\n",
    "import os\n",
    "import json\n",
    "import torch\n",
    "from torchvision.io import read_video\n",
    "from torch.utils.data import Dataset\n",
    "from torchvision.transforms import Compose\n",
    "import torchvideo.transforms as tvt\n",
    "from tqdm import tqdm\n",
    "from torchvision.transforms import InterpolationMode\n",
    "import glob\n",
    "from dataset import ASLDataset"
   ]
  },
  {
   "cell_type": "code",
   "execution_count": 7,
   "id": "ba16f0ee",
   "metadata": {},
   "outputs": [],
   "source": []
  },
  {
   "cell_type": "code",
   "execution_count": 8,
   "id": "3fad99b4",
   "metadata": {},
   "outputs": [],
   "source": []
  },
  {
   "cell_type": "code",
   "execution_count": 16,
   "id": "c813986c",
   "metadata": {},
   "outputs": [],
   "source": [
    "        f = open(json_path, 'r')\n",
    "        data = json.load(f)\n",
    "        \n",
    "        clips = []\n",
    "        \n",
    "        labels = {}\n",
    "        total_classes = len(data)\n",
    "        current_class = 0\n",
    "        \n",
    "\n",
    "     \n",
    "\n",
    "        for key in data: # for each word\n",
    "            one_hot_version = torch.nn.functional.one_hot(torch.tensor([current_class]), num_classes=total_classes)\n",
    "            \n",
    "            labels[key] = one_hot_version # make it the next one_hot\n",
    "            # word -> OHE\n",
    "            current_class += 1\n",
    "            \n",
    "            for value in data[key]:\n",
    "                clips.append((key, value))"
   ]
  },
  {
   "cell_type": "code",
   "execution_count": 18,
   "id": "b1fc7a14",
   "metadata": {},
   "outputs": [],
   "source": []
  },
  {
   "cell_type": "code",
   "execution_count": 29,
   "id": "940ed62d",
   "metadata": {},
   "outputs": [
    {
     "name": "stderr",
     "output_type": "stream",
     "text": [
      "  0%|                                                                               | 0/770 [00:13<?, ?it/s]"
     ]
    },
    {
     "name": "stdout",
     "output_type": "stream",
     "text": [
      "Saved /raid/projects/weustis/data/asl/videos/ASL_2008_08_06_scene11-camera1.h5\n"
     ]
    },
    {
     "name": "stderr",
     "output_type": "stream",
     "text": [
      "\n"
     ]
    }
   ],
   "source": [
    "for video in tqdm(glob.glob(r\"/raid/projects/weustis/data/asl/videos/*\")):\n",
    "    new_path = video.split(\".\")[0] + \".h5\"\n",
    "    video = read_video(video)[0].unsqueeze(0).permute([0, 4, 1, 2, 3]).float()\n",
    "    \n",
    "    video = next(transforms(video))\n",
    "    #print(video.shape)\n",
    "    hf = h5py.File(new_path, 'w')\n",
    "    hf.create_dataset('video', data=video)\n",
    "    hf.close()\n",
    "    print(\"Saved\", new_path)\n",
    "    break"
   ]
  },
  {
   "cell_type": "code",
   "execution_count": null,
   "id": "fd237cf2",
   "metadata": {},
   "outputs": [],
   "source": []
  }
 ],
 "metadata": {
  "kernelspec": {
   "display_name": "Python 3 (ipykernel)",
   "language": "python",
   "name": "python3"
  },
  "language_info": {
   "codemirror_mode": {
    "name": "ipython",
    "version": 3
   },
   "file_extension": ".py",
   "mimetype": "text/x-python",
   "name": "python",
   "nbconvert_exporter": "python",
   "pygments_lexer": "ipython3",
   "version": "3.9.7"
  }
 },
 "nbformat": 4,
 "nbformat_minor": 5
}
