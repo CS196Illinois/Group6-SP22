{
 "cells": [
  {
   "cell_type": "code",
   "execution_count": 1,
   "id": "76a47c56",
   "metadata": {},
   "outputs": [],
   "source": [
    "frames = 60"
   ]
  },
  {
   "cell_type": "code",
   "execution_count": 2,
   "id": "3aee7896",
   "metadata": {},
   "outputs": [],
   "source": [
    "t = 45"
   ]
  },
  {
   "cell_type": "code",
   "execution_count": 3,
   "id": "d34ee870",
   "metadata": {},
   "outputs": [
    {
     "ename": "TypeError",
     "evalue": "'float' object is not iterable",
     "output_type": "error",
     "traceback": [
      "\u001b[0;31m---------------------------------------------------------------------------\u001b[0m",
      "\u001b[0;31mTypeError\u001b[0m                                 Traceback (most recent call last)",
      "\u001b[0;32m/tmp/ipykernel_93445/4061970622.py\u001b[0m in \u001b[0;36m<module>\u001b[0;34m\u001b[0m\n\u001b[0;32m----> 1\u001b[0;31m \u001b[0;32mfor\u001b[0m \u001b[0mi\u001b[0m \u001b[0;32min\u001b[0m \u001b[0;34m(\u001b[0m\u001b[0mframes\u001b[0m\u001b[0;34m/\u001b[0m\u001b[0mt\u001b[0m\u001b[0;34m)\u001b[0m\u001b[0;34m:\u001b[0m\u001b[0;34m\u001b[0m\u001b[0;34m\u001b[0m\u001b[0m\n\u001b[0m\u001b[1;32m      2\u001b[0m     \u001b[0mprint\u001b[0m\u001b[0;34m(\u001b[0m\u001b[0mi\u001b[0m\u001b[0;34m)\u001b[0m\u001b[0;34m\u001b[0m\u001b[0;34m\u001b[0m\u001b[0m\n",
      "\u001b[0;31mTypeError\u001b[0m: 'float' object is not iterable"
     ]
    }
   ],
   "source": [
    "for i in (frames/t):\n",
    "    print(i)"
   ]
  },
  {
   "cell_type": "code",
   "execution_count": 6,
   "id": "03b61431",
   "metadata": {},
   "outputs": [],
   "source": [
    "import torch"
   ]
  },
  {
   "cell_type": "code",
   "execution_count": 30,
   "id": "26e35220",
   "metadata": {},
   "outputs": [
    {
     "data": {
      "text/plain": [
       "tensor([0])"
      ]
     },
     "execution_count": 30,
     "metadata": {},
     "output_type": "execute_result"
    }
   ],
   "source": [
    "torch.randint(-1, 0, size=(1,)) + 1"
   ]
  },
  {
   "cell_type": "code",
   "execution_count": 2,
   "id": "e682cfae",
   "metadata": {},
   "outputs": [],
   "source": [
    "import torchvideo.transforms as tvt"
   ]
  },
  {
   "cell_type": "code",
   "execution_count": 39,
   "id": "33e12e5f",
   "metadata": {},
   "outputs": [],
   "source": [
    "x = tvt.ResizeVideo((256,256))"
   ]
  },
  {
   "cell_type": "code",
   "execution_count": 40,
   "id": "bd5adf28",
   "metadata": {},
   "outputs": [],
   "source": [
    "a = x(torch.rand(1, 3, 30, 412, 256))"
   ]
  },
  {
   "cell_type": "code",
   "execution_count": 41,
   "id": "fba3723e",
   "metadata": {},
   "outputs": [
    {
     "name": "stdout",
     "output_type": "stream",
     "text": [
      "torch.Size([3, 30, 256, 256])\n"
     ]
    }
   ],
   "source": [
    "for b in a:\n",
    "    print(b.shape)"
   ]
  },
  {
   "cell_type": "code",
   "execution_count": 46,
   "id": "dca872a7",
   "metadata": {},
   "outputs": [
    {
     "data": {
      "text/plain": [
       "torch.Size([1, 1, 1, 3, 30, 412, 256])"
      ]
     },
     "execution_count": 46,
     "metadata": {},
     "output_type": "execute_result"
    }
   ],
   "source": [
    "torch.rand(3, 30, 412, 256).unsqueeze(0).unsqueeze(0).unsqueeze(0).shape"
   ]
  },
  {
   "cell_type": "code",
   "execution_count": 47,
   "id": "92ddf3a3",
   "metadata": {},
   "outputs": [
    {
     "data": {
      "text/plain": [
       "tensor([[-0.6046, -0.2701, -0.8240, -0.8523,  0.6498],\n",
       "        [ 0.5052,  1.7186, -2.2512, -0.4970,  0.8603],\n",
       "        [ 0.0172,  0.7555,  0.6207,  1.9840, -1.1570]], requires_grad=True)"
      ]
     },
     "execution_count": 47,
     "metadata": {},
     "output_type": "execute_result"
    }
   ],
   "source": [
    "torch.randn(3, 5, requires_grad=True)"
   ]
  },
  {
   "cell_type": "code",
   "execution_count": null,
   "id": "b7a00200",
   "metadata": {},
   "outputs": [],
   "source": []
  }
 ],
 "metadata": {
  "kernelspec": {
   "display_name": "Python 3 (ipykernel)",
   "language": "python",
   "name": "python3"
  },
  "language_info": {
   "codemirror_mode": {
    "name": "ipython",
    "version": 3
   },
   "file_extension": ".py",
   "mimetype": "text/x-python",
   "name": "python",
   "nbconvert_exporter": "python",
   "pygments_lexer": "ipython3",
   "version": "3.9.7"
  }
 },
 "nbformat": 4,
 "nbformat_minor": 5
}
